{
 "cells": [
  {
   "cell_type": "markdown",
   "metadata": {},
   "source": [
    "### Multi label classification example\n",
    "\n",
    "This notebook will demonstrate how to use BERT to perform multilabel classification via transfer learning.\n",
    "\n",
    "It is using a Twitter (now X) dataset from kaggle which has binary labels for 11 different emotions."
   ]
  },
  {
   "cell_type": "code",
   "execution_count": 1,
   "metadata": {},
   "outputs": [
    {
     "name": "stderr",
     "output_type": "stream",
     "text": [
      "C:\\Users\\deaga\\anaconda3\\lib\\site-packages\\requests\\__init__.py:109: RequestsDependencyWarning: urllib3 (2.2.3) or chardet (3.0.4)/charset_normalizer (2.0.12) doesn't match a supported version!\n",
      "  warnings.warn(\n"
     ]
    }
   ],
   "source": [
    "import numpy as np\n",
    "import tensorflow as tf\n",
    "import tensorflow_hub as hub\n",
    "\n",
    "import tensorflow_text as text\n",
    "\n",
    "from official.nlp.data import classifier_data_lib\n",
    "from official.nlp.bert import tokenization\n",
    "from official.nlp import optimization\n",
    "\n",
    "import pandas as pd\n",
    "from sklearn.model_selection import train_test_split"
   ]
  },
  {
   "cell_type": "code",
   "execution_count": 2,
   "metadata": {},
   "outputs": [
    {
     "name": "stdout",
     "output_type": "stream",
     "text": [
      "TF Version:  2.8.0\n",
      "Eager mode:  True\n",
      "Hub version:  0.12.0\n",
      "GPU is available\n"
     ]
    }
   ],
   "source": [
    "print(\"TF Version: \", tf.__version__)\n",
    "print(\"Eager mode: \", tf.executing_eagerly())\n",
    "print(\"Hub version: \", hub.__version__)\n",
    "print(\"GPU is\", \"available\" if tf.config.experimental.list_physical_devices(\"GPU\") else \"NOT AVAILABLE\")"
   ]
  },
  {
   "cell_type": "code",
   "execution_count": 3,
   "metadata": {},
   "outputs": [
    {
     "data": {
      "text/plain": [
       "(6838, 13)"
      ]
     },
     "execution_count": 3,
     "metadata": {},
     "output_type": "execute_result"
    }
   ],
   "source": [
    "train_df = pd.read_csv('datasets/E-c-En-train.csv')\n",
    "test_df = pd.read_csv('datasets/E-c-En-dev.csv')\n",
    "\n",
    "train_df.shape"
   ]
  },
  {
   "cell_type": "code",
   "execution_count": 4,
   "metadata": {},
   "outputs": [
    {
     "data": {
      "text/html": [
       "<div>\n",
       "<style scoped>\n",
       "    .dataframe tbody tr th:only-of-type {\n",
       "        vertical-align: middle;\n",
       "    }\n",
       "\n",
       "    .dataframe tbody tr th {\n",
       "        vertical-align: top;\n",
       "    }\n",
       "\n",
       "    .dataframe thead th {\n",
       "        text-align: right;\n",
       "    }\n",
       "</style>\n",
       "<table border=\"1\" class=\"dataframe\">\n",
       "  <thead>\n",
       "    <tr style=\"text-align: right;\">\n",
       "      <th></th>\n",
       "      <th>Tweet</th>\n",
       "      <th>anger</th>\n",
       "      <th>anticipation</th>\n",
       "      <th>disgust</th>\n",
       "      <th>fear</th>\n",
       "      <th>joy</th>\n",
       "      <th>love</th>\n",
       "      <th>optimism</th>\n",
       "      <th>pessimism</th>\n",
       "      <th>sadness</th>\n",
       "      <th>surprise</th>\n",
       "      <th>trust</th>\n",
       "    </tr>\n",
       "  </thead>\n",
       "  <tbody>\n",
       "    <tr>\n",
       "      <th>0</th>\n",
       "      <td>“Worry is a down payment on a problem you may ...</td>\n",
       "      <td>0</td>\n",
       "      <td>1</td>\n",
       "      <td>0</td>\n",
       "      <td>0</td>\n",
       "      <td>0</td>\n",
       "      <td>0</td>\n",
       "      <td>1</td>\n",
       "      <td>0</td>\n",
       "      <td>0</td>\n",
       "      <td>0</td>\n",
       "      <td>1</td>\n",
       "    </tr>\n",
       "    <tr>\n",
       "      <th>1</th>\n",
       "      <td>Whatever you decide to do make sure it makes y...</td>\n",
       "      <td>0</td>\n",
       "      <td>0</td>\n",
       "      <td>0</td>\n",
       "      <td>0</td>\n",
       "      <td>1</td>\n",
       "      <td>1</td>\n",
       "      <td>1</td>\n",
       "      <td>0</td>\n",
       "      <td>0</td>\n",
       "      <td>0</td>\n",
       "      <td>0</td>\n",
       "    </tr>\n",
       "    <tr>\n",
       "      <th>2</th>\n",
       "      <td>@Max_Kellerman  it also helps that the majorit...</td>\n",
       "      <td>1</td>\n",
       "      <td>0</td>\n",
       "      <td>1</td>\n",
       "      <td>0</td>\n",
       "      <td>1</td>\n",
       "      <td>0</td>\n",
       "      <td>1</td>\n",
       "      <td>0</td>\n",
       "      <td>0</td>\n",
       "      <td>0</td>\n",
       "      <td>0</td>\n",
       "    </tr>\n",
       "    <tr>\n",
       "      <th>3</th>\n",
       "      <td>Accept the challenges so that you can literall...</td>\n",
       "      <td>0</td>\n",
       "      <td>0</td>\n",
       "      <td>0</td>\n",
       "      <td>0</td>\n",
       "      <td>1</td>\n",
       "      <td>0</td>\n",
       "      <td>1</td>\n",
       "      <td>0</td>\n",
       "      <td>0</td>\n",
       "      <td>0</td>\n",
       "      <td>0</td>\n",
       "    </tr>\n",
       "    <tr>\n",
       "      <th>4</th>\n",
       "      <td>My roommate: it's okay that we can't spell bec...</td>\n",
       "      <td>1</td>\n",
       "      <td>0</td>\n",
       "      <td>1</td>\n",
       "      <td>0</td>\n",
       "      <td>0</td>\n",
       "      <td>0</td>\n",
       "      <td>0</td>\n",
       "      <td>0</td>\n",
       "      <td>0</td>\n",
       "      <td>0</td>\n",
       "      <td>0</td>\n",
       "    </tr>\n",
       "    <tr>\n",
       "      <th>...</th>\n",
       "      <td>...</td>\n",
       "      <td>...</td>\n",
       "      <td>...</td>\n",
       "      <td>...</td>\n",
       "      <td>...</td>\n",
       "      <td>...</td>\n",
       "      <td>...</td>\n",
       "      <td>...</td>\n",
       "      <td>...</td>\n",
       "      <td>...</td>\n",
       "      <td>...</td>\n",
       "      <td>...</td>\n",
       "    </tr>\n",
       "    <tr>\n",
       "      <th>6833</th>\n",
       "      <td>@nicky57672 Hi! We are working towards your hi...</td>\n",
       "      <td>0</td>\n",
       "      <td>0</td>\n",
       "      <td>0</td>\n",
       "      <td>0</td>\n",
       "      <td>0</td>\n",
       "      <td>0</td>\n",
       "      <td>0</td>\n",
       "      <td>0</td>\n",
       "      <td>0</td>\n",
       "      <td>0</td>\n",
       "      <td>0</td>\n",
       "    </tr>\n",
       "    <tr>\n",
       "      <th>6834</th>\n",
       "      <td>@andreamitchell said @berniesanders not only d...</td>\n",
       "      <td>0</td>\n",
       "      <td>1</td>\n",
       "      <td>0</td>\n",
       "      <td>0</td>\n",
       "      <td>0</td>\n",
       "      <td>0</td>\n",
       "      <td>0</td>\n",
       "      <td>0</td>\n",
       "      <td>0</td>\n",
       "      <td>1</td>\n",
       "      <td>0</td>\n",
       "    </tr>\n",
       "    <tr>\n",
       "      <th>6835</th>\n",
       "      <td>@isthataspider @dhodgs i will fight this guy! ...</td>\n",
       "      <td>1</td>\n",
       "      <td>0</td>\n",
       "      <td>1</td>\n",
       "      <td>0</td>\n",
       "      <td>0</td>\n",
       "      <td>0</td>\n",
       "      <td>0</td>\n",
       "      <td>1</td>\n",
       "      <td>0</td>\n",
       "      <td>0</td>\n",
       "      <td>0</td>\n",
       "    </tr>\n",
       "    <tr>\n",
       "      <th>6836</th>\n",
       "      <td>i wonder how a guy can broke his penis while h...</td>\n",
       "      <td>0</td>\n",
       "      <td>0</td>\n",
       "      <td>0</td>\n",
       "      <td>0</td>\n",
       "      <td>0</td>\n",
       "      <td>0</td>\n",
       "      <td>0</td>\n",
       "      <td>0</td>\n",
       "      <td>0</td>\n",
       "      <td>1</td>\n",
       "      <td>0</td>\n",
       "    </tr>\n",
       "    <tr>\n",
       "      <th>6837</th>\n",
       "      <td>I'm highly animated even though I'm decomposing.</td>\n",
       "      <td>0</td>\n",
       "      <td>0</td>\n",
       "      <td>0</td>\n",
       "      <td>0</td>\n",
       "      <td>0</td>\n",
       "      <td>0</td>\n",
       "      <td>0</td>\n",
       "      <td>1</td>\n",
       "      <td>0</td>\n",
       "      <td>0</td>\n",
       "      <td>0</td>\n",
       "    </tr>\n",
       "  </tbody>\n",
       "</table>\n",
       "<p>6838 rows × 12 columns</p>\n",
       "</div>"
      ],
      "text/plain": [
       "                                                  Tweet  anger  anticipation  \\\n",
       "0     “Worry is a down payment on a problem you may ...      0             1   \n",
       "1     Whatever you decide to do make sure it makes y...      0             0   \n",
       "2     @Max_Kellerman  it also helps that the majorit...      1             0   \n",
       "3     Accept the challenges so that you can literall...      0             0   \n",
       "4     My roommate: it's okay that we can't spell bec...      1             0   \n",
       "...                                                 ...    ...           ...   \n",
       "6833  @nicky57672 Hi! We are working towards your hi...      0             0   \n",
       "6834  @andreamitchell said @berniesanders not only d...      0             1   \n",
       "6835  @isthataspider @dhodgs i will fight this guy! ...      1             0   \n",
       "6836  i wonder how a guy can broke his penis while h...      0             0   \n",
       "6837   I'm highly animated even though I'm decomposing.      0             0   \n",
       "\n",
       "      disgust  fear  joy  love  optimism  pessimism  sadness  surprise  trust  \n",
       "0           0     0    0     0         1          0        0         0      1  \n",
       "1           0     0    1     1         1          0        0         0      0  \n",
       "2           1     0    1     0         1          0        0         0      0  \n",
       "3           0     0    1     0         1          0        0         0      0  \n",
       "4           1     0    0     0         0          0        0         0      0  \n",
       "...       ...   ...  ...   ...       ...        ...      ...       ...    ...  \n",
       "6833        0     0    0     0         0          0        0         0      0  \n",
       "6834        0     0    0     0         0          0        0         1      0  \n",
       "6835        1     0    0     0         0          1        0         0      0  \n",
       "6836        0     0    0     0         0          0        0         1      0  \n",
       "6837        0     0    0     0         0          1        0         0      0  \n",
       "\n",
       "[6838 rows x 12 columns]"
      ]
     },
     "execution_count": 4,
     "metadata": {},
     "output_type": "execute_result"
    }
   ],
   "source": [
    "train_df.drop('ID',axis=1, inplace=True)\n",
    "test_df.drop('ID',axis=1, inplace=True)\n",
    "train_df"
   ]
  },
  {
   "cell_type": "code",
   "execution_count": 5,
   "metadata": {},
   "outputs": [
    {
     "data": {
      "text/plain": [
       "Index(['Tweet', 'anger', 'anticipation', 'disgust', 'fear', 'joy', 'love',\n",
       "       'optimism', 'pessimism', 'sadness', 'surprise', 'trust'],\n",
       "      dtype='object')"
      ]
     },
     "execution_count": 5,
     "metadata": {},
     "output_type": "execute_result"
    }
   ],
   "source": [
    "test_df.columns"
   ]
  },
  {
   "cell_type": "markdown",
   "metadata": {},
   "source": [
    "### Text preprocessing"
   ]
  },
  {
   "cell_type": "code",
   "execution_count": 6,
   "metadata": {},
   "outputs": [],
   "source": [
    "import re\n",
    "import emoji"
   ]
  },
  {
   "cell_type": "code",
   "execution_count": 7,
   "metadata": {},
   "outputs": [],
   "source": [
    "# Function for converting emojis into words\n",
    "def convert_emojis(text):\n",
    "    text = emoji.demojize(text)\n",
    "    return text"
   ]
  },
  {
   "cell_type": "code",
   "execution_count": 8,
   "metadata": {},
   "outputs": [],
   "source": [
    "train_df['Tweet'] = train_df['Tweet'].map(lambda x : convert_emojis(x))\n",
    "test_df['Tweet'] = test_df['Tweet'].map(lambda x : convert_emojis(x))"
   ]
  },
  {
   "cell_type": "code",
   "execution_count": 9,
   "metadata": {},
   "outputs": [],
   "source": [
    "def clean_text(text):\n",
    "    #converts to lower case\n",
    "    text = text.lower()\n",
    "    #remove tags\n",
    "    text = re.sub('\\S*@\\S*', ' ', text)\n",
    "    #remove contractions and remove space\n",
    "    text = re.sub('\\'', '', text)\n",
    "    #remove all special characters except for ? and !\n",
    "    text = re.sub('[^A-Za-z!?]', ' ', text)\n",
    "    # removes numbers\n",
    "    text = re.sub('\\w*\\d\\w*', ' ', text) \n",
    "    # substitutes _ with a space\n",
    "    text = re.sub('_', ' ', text)\n",
    "    # Substituting multiple spaces with single space\n",
    "    text = re.sub('\\s+', ' ', text)\n",
    "    #removes blank space at start of text\n",
    "    text = text.strip(' ') \n",
    "    return text"
   ]
  },
  {
   "cell_type": "code",
   "execution_count": 10,
   "metadata": {},
   "outputs": [
    {
     "data": {
      "text/plain": [
       "'?? !! blah blahs'"
      ]
     },
     "execution_count": 10,
     "metadata": {},
     "output_type": "execute_result"
    }
   ],
   "source": [
    "clean_text('\\/# ?? !! @word blah blah\\'s')"
   ]
  },
  {
   "cell_type": "code",
   "execution_count": 11,
   "metadata": {},
   "outputs": [],
   "source": [
    "train_df['Tweet'] = train_df['Tweet'].map(lambda x : clean_text(x))\n",
    "test_df['Tweet'] = test_df['Tweet'].map(lambda x : clean_text(x))"
   ]
  },
  {
   "cell_type": "code",
   "execution_count": 12,
   "metadata": {},
   "outputs": [
    {
     "data": {
      "text/plain": [
       "['worry is a down payment on a problem you may never have joyce meyer motivation leadership worry',\n",
       " 'whatever you decide to do make sure it makes you happy',\n",
       " 'it also helps that the majority of nfl coaching is inept some of bill obriens play calling was wow ! gopats',\n",
       " 'accept the challenges so that you can literally even feel the exhilaration of victory george s patton dog face',\n",
       " 'my roommate its okay that we cant spell because we have autocorrect terrible firstworldprobs',\n",
       " 'no but thats so cute atsu was probably shy about photos before but cherry helped her out uwu',\n",
       " 'do you think humans have the sense for recognizing impending doom?',\n",
       " 'rooneys fucking untouchable isnt he? been fucking dreadful again depay has looked decent ish tonight',\n",
       " 'its pretty depressing when u hit pan on ur favourite highlighter',\n",
       " 'but your pussy was weak from what i heard so stfu up to me bitch you got to threaten him that your pregnant',\n",
       " 'making that yearly transition from excited and hopeful college returner to sick and exhausted pessimist college',\n",
       " 'and its hard to dance with a devil on your back nso shake him off',\n",
       " 'tiller and breezy should do a collab album rapping and singing prolly be fire',\n",
       " 's o to the girl that just hit my car not only did she get lucky w no scratch but also from being spared the wrath of sleep deprived kait upside down face',\n",
       " 'broadband is shocking regretting signing up now angry shouldofgonewithvirgin',\n",
       " 'people you need to look up the definition of protest what you are doing is not protesting is called vandalism angry stop',\n",
       " 'look at those teef! growl',\n",
       " 'star trek online has a update to download oh fuming yay',\n",
       " 'the bitter the battle the sweeter the victory',\n",
       " 'i cant stop i finished dejected luckily no one is in the bathroom so i go to a stall and wait until my pants are dry']"
      ]
     },
     "execution_count": 12,
     "metadata": {},
     "output_type": "execute_result"
    }
   ],
   "source": [
    "train_df['Tweet'][:20].to_list()"
   ]
  },
  {
   "cell_type": "markdown",
   "metadata": {},
   "source": [
    "### Loading the BERT model"
   ]
  },
  {
   "cell_type": "code",
   "execution_count": 13,
   "metadata": {},
   "outputs": [],
   "source": [
    "bert_model_name = 'bert_en_uncased_L-12_H-768_A-12_4'\n",
    "\n",
    "map_name_to_handle = {'bert_en_uncased_L-12_H-768_A-12_4': \"bert_uncased\"}\n",
    "\n",
    "map_model_to_preprocess = {'bert_en_uncased_L-12_H-768_A-12_4': \"preprocess\"}"
   ]
  },
  {
   "cell_type": "code",
   "execution_count": 14,
   "metadata": {},
   "outputs": [],
   "source": [
    "tfhub_handle_encoder = map_name_to_handle[bert_model_name]\n",
    "tfhub_handle_preprocess = map_model_to_preprocess[bert_model_name]"
   ]
  },
  {
   "cell_type": "markdown",
   "metadata": {},
   "source": [
    "#### Example of encoded message"
   ]
  },
  {
   "cell_type": "code",
   "execution_count": 15,
   "metadata": {},
   "outputs": [
    {
     "name": "stdout",
     "output_type": "stream",
     "text": [
      "<tf.RaggedTensor [[[4737],\n",
      "  [2003],\n",
      "  [1037],\n",
      "  [2091],\n",
      "  [7909],\n",
      "  [2006],\n",
      "  [1037],\n",
      "  [3291],\n",
      "  [2017],\n",
      "  [2089],\n",
      "  [2196],\n",
      "  [2031],\n",
      "  [11830],\n",
      "  [11527],\n",
      "  [14354],\n",
      "  [4105],\n",
      "  [4737]]]>\n"
     ]
    }
   ],
   "source": [
    "bert_preprocess = hub.load(tfhub_handle_preprocess)\n",
    "tok = bert_preprocess.tokenize(tf.constant([train_df['Tweet'][0]]))\n",
    "print(tok)"
   ]
  },
  {
   "cell_type": "markdown",
   "metadata": {},
   "source": [
    "#### Defining the model architecture"
   ]
  },
  {
   "cell_type": "code",
   "execution_count": 16,
   "metadata": {},
   "outputs": [],
   "source": [
    "def build_classifier_model():\n",
    "    text_input = tf.keras.layers.Input(shape=(), dtype=tf.string, name='text')\n",
    "    preprocessing_layer = hub.KerasLayer(tfhub_handle_preprocess, name='preprocessing')\n",
    "    encoder_inputs = preprocessing_layer(text_input)\n",
    "    encoder = hub.KerasLayer(tfhub_handle_encoder, trainable=True, name='BERT_encoder')\n",
    "    outputs = encoder(encoder_inputs)\n",
    "    # using the pooled_output as this is a classification process\n",
    "    net = outputs['pooled_output']\n",
    "    net = tf.keras.layers.Dropout(0.4)(net)\n",
    "    # adding some additional fully connected layers\n",
    "    net = tf.keras.layers.Dense(768)(net)\n",
    "    net = tf.keras.layers.Dropout(0.4)(net)\n",
    "    net = tf.keras.layers.Dense(384)(net)\n",
    "    net = tf.keras.layers.Dropout(0.4)(net)\n",
    "    # Using a relevant output layer suited to the classificatin type - 11 binary classes\n",
    "    net = tf.keras.layers.Dense(11, activation='sigmoid', name='classifier')(net)\n",
    "    return tf.keras.Model(text_input, net)"
   ]
  },
  {
   "cell_type": "code",
   "execution_count": 17,
   "metadata": {},
   "outputs": [],
   "source": [
    "classifier_model = build_classifier_model()"
   ]
  },
  {
   "cell_type": "markdown",
   "metadata": {},
   "source": [
    "Preparing train and test evaluation sets"
   ]
  },
  {
   "cell_type": "code",
   "execution_count": 18,
   "metadata": {},
   "outputs": [],
   "source": [
    "train_x = train_df['Tweet']\n",
    "train_y = train_df.loc[:,['anger', 'anticipation', 'disgust', 'fear', 'joy', 'love',\n",
    "       'optimism', 'pessimism', 'sadness', 'surprise', 'trust']].values\n",
    "\n",
    "test_x = test_df['Tweet']\n",
    "test_y = test_df.loc[:,['anger', 'anticipation', 'disgust', 'fear', 'joy', 'love',\n",
    "       'optimism', 'pessimism', 'sadness', 'surprise', 'trust']].values"
   ]
  },
  {
   "cell_type": "code",
   "execution_count": 19,
   "metadata": {},
   "outputs": [
    {
     "data": {
      "text/plain": [
       "((6838,), (6838, 11), (886,), (886, 11))"
      ]
     },
     "execution_count": 19,
     "metadata": {},
     "output_type": "execute_result"
    }
   ],
   "source": [
    "train_x.shape, train_y.shape, test_x.shape, test_y.shape"
   ]
  },
  {
   "cell_type": "code",
   "execution_count": 20,
   "metadata": {},
   "outputs": [
    {
     "data": {
      "text/plain": [
       "0       worry is a down payment on a problem you may n...\n",
       "1       whatever you decide to do make sure it makes y...\n",
       "2       it also helps that the majority of nfl coachin...\n",
       "3       accept the challenges so that you can literall...\n",
       "4       my roommate its okay that we cant spell becaus...\n",
       "                              ...                        \n",
       "6833    hi! we are working towards your highlighted co...\n",
       "6834    said not only did not play up hrc in campaigni...\n",
       "6835    i will fight this guy! dont insult the lions l...\n",
       "6836    i wonder how a guy can broke his penis while h...\n",
       "6837        im highly animated even though im decomposing\n",
       "Name: Tweet, Length: 6838, dtype: object"
      ]
     },
     "execution_count": 20,
     "metadata": {},
     "output_type": "execute_result"
    }
   ],
   "source": [
    "train_x"
   ]
  },
  {
   "cell_type": "markdown",
   "metadata": {},
   "source": [
    "### Model Training"
   ]
  },
  {
   "cell_type": "code",
   "execution_count": 21,
   "metadata": {},
   "outputs": [],
   "source": [
    "tf.keras.backend.clear_session()\n",
    "\n",
    "classifier_model.compile(optimizer=tf.keras.optimizers.Adam(learning_rate=2e-5),\n",
    "              loss='binary_crossentropy',\n",
    "              metrics=[tf.keras.metrics.BinaryAccuracy()])"
   ]
  },
  {
   "cell_type": "code",
   "execution_count": 22,
   "metadata": {},
   "outputs": [
    {
     "name": "stdout",
     "output_type": "stream",
     "text": [
      "Model: \"model\"\n",
      "__________________________________________________________________________________________________\n",
      " Layer (type)                   Output Shape         Param #     Connected to                     \n",
      "==================================================================================================\n",
      " text (InputLayer)              [(None,)]            0           []                               \n",
      "                                                                                                  \n",
      " preprocessing (KerasLayer)     {'input_mask': (Non  0           ['text[0][0]']                   \n",
      "                                e, 128),                                                          \n",
      "                                 'input_type_ids':                                                \n",
      "                                (None, 128),                                                      \n",
      "                                 'input_word_ids':                                                \n",
      "                                (None, 128)}                                                      \n",
      "                                                                                                  \n",
      " BERT_encoder (KerasLayer)      {'default': (None,   109482241   ['preprocessing[0][0]',          \n",
      "                                768),                             'preprocessing[0][1]',          \n",
      "                                 'encoder_outputs':               'preprocessing[0][2]']          \n",
      "                                 [(None, 128, 768),                                               \n",
      "                                 (None, 128, 768),                                                \n",
      "                                 (None, 128, 768),                                                \n",
      "                                 (None, 128, 768),                                                \n",
      "                                 (None, 128, 768),                                                \n",
      "                                 (None, 128, 768),                                                \n",
      "                                 (None, 128, 768),                                                \n",
      "                                 (None, 128, 768),                                                \n",
      "                                 (None, 128, 768),                                                \n",
      "                                 (None, 128, 768),                                                \n",
      "                                 (None, 128, 768),                                                \n",
      "                                 (None, 128, 768)],                                               \n",
      "                                 'pooled_output': (                                               \n",
      "                                None, 768),                                                       \n",
      "                                 'sequence_output':                                               \n",
      "                                 (None, 128, 768)}                                                \n",
      "                                                                                                  \n",
      " dropout (Dropout)              (None, 768)          0           ['BERT_encoder[0][13]']          \n",
      "                                                                                                  \n",
      " dense (Dense)                  (None, 768)          590592      ['dropout[0][0]']                \n",
      "                                                                                                  \n",
      " dropout_1 (Dropout)            (None, 768)          0           ['dense[0][0]']                  \n",
      "                                                                                                  \n",
      " dense_1 (Dense)                (None, 384)          295296      ['dropout_1[0][0]']              \n",
      "                                                                                                  \n",
      " dropout_2 (Dropout)            (None, 384)          0           ['dense_1[0][0]']                \n",
      "                                                                                                  \n",
      " classifier (Dense)             (None, 11)           4235        ['dropout_2[0][0]']              \n",
      "                                                                                                  \n",
      "==================================================================================================\n",
      "Total params: 110,372,364\n",
      "Trainable params: 110,372,363\n",
      "Non-trainable params: 1\n",
      "__________________________________________________________________________________________________\n"
     ]
    }
   ],
   "source": [
    "classifier_model.summary()"
   ]
  },
  {
   "cell_type": "code",
   "execution_count": 23,
   "metadata": {},
   "outputs": [],
   "source": [
    "epochs = 5\n",
    "batch_size = 32"
   ]
  },
  {
   "cell_type": "code",
   "execution_count": 24,
   "metadata": {},
   "outputs": [
    {
     "name": "stdout",
     "output_type": "stream",
     "text": [
      "Epoch 1/5\n",
      "214/214 [==============================] - 75s 304ms/step - loss: 0.4956 - binary_accuracy: 0.7746 - val_loss: 0.3490 - val_binary_accuracy: 0.8548 - val_f1_score: 0.5458\n",
      "Epoch 2/5\n",
      "214/214 [==============================] - 64s 298ms/step - loss: 0.3576 - binary_accuracy: 0.8538 - val_loss: 0.3090 - val_binary_accuracy: 0.8755 - val_f1_score: 0.6388\n",
      "Epoch 3/5\n",
      "214/214 [==============================] - 64s 300ms/step - loss: 0.3112 - binary_accuracy: 0.8754 - val_loss: 0.3064 - val_binary_accuracy: 0.8774 - val_f1_score: 0.6502\n",
      "Epoch 4/5\n",
      "214/214 [==============================] - 64s 300ms/step - loss: 0.2801 - binary_accuracy: 0.8876 - val_loss: 0.3093 - val_binary_accuracy: 0.8785 - val_f1_score: 0.6749\n",
      "Epoch 5/5\n",
      "214/214 [==============================] - 64s 299ms/step - loss: 0.2587 - binary_accuracy: 0.8957 - val_loss: 0.3339 - val_binary_accuracy: 0.8709 - val_f1_score: 0.6585\n"
     ]
    }
   ],
   "source": [
    "from tensorflow.keras.callbacks import Callback\n",
    "from sklearn.metrics import f1_score \n",
    "\n",
    "class MultiLabelF1ScoreCallback(Callback):\n",
    "    def __init__(self, validation_data):\n",
    "        super().__init__()\n",
    "        self.validation_data = validation_data\n",
    "\n",
    "    def on_epoch_end(self, epoch, logs=None):\n",
    "        if logs is None:\n",
    "            logs = {}\n",
    "\n",
    "        val_x, val_y = self.validation_data\n",
    "\n",
    "        # Run inference in \"no_grad\" mode to speed it up\n",
    "        y_pred = self.model.predict(val_x, verbose=0)\n",
    "        y_pred = (y_pred > 0.5).astype(int)  # Convert probabilities to binary labels\n",
    "\n",
    "        # Compute F1-score for multi-label classification\n",
    "        f1 = f1_score(val_y, y_pred, average=\"samples\", zero_division=1)  # \"samples\" is best for multi-label tasks\n",
    "\n",
    "        logs[\"val_f1_score\"] = f1\n",
    "#         print(f\" — val_f1_score: {f1:.4f}\")\n",
    "\n",
    "# Train model with optimized callback\n",
    "f1_callback = MultiLabelF1ScoreCallback(validation_data=(test_x, test_y))\n",
    "\n",
    "history = classifier_model.fit(\n",
    "    train_x,\n",
    "    train_y,\n",
    "    validation_data=(test_x, test_y),\n",
    "    batch_size=batch_size,\n",
    "    epochs=epochs,\n",
    "    verbose=1,\n",
    "    callbacks=[f1_callback]\n",
    ")"
   ]
  },
  {
   "cell_type": "markdown",
   "metadata": {},
   "source": [
    "### Training Evaluation"
   ]
  },
  {
   "cell_type": "code",
   "execution_count": 25,
   "metadata": {},
   "outputs": [],
   "source": [
    "import matplotlib.pyplot as plt\n",
    "\n",
    "def plot_graphs(history, metric):\n",
    "    plt.plot(history.history[metric])\n",
    "    plt.plot(history.history['val_'+metric], '')\n",
    "    plt.xlabel(\"Epochs\")\n",
    "    plt.ylabel(metric)\n",
    "    plt.legend([metric, 'val_'+metric])\n",
    "    plt.show()"
   ]
  },
  {
   "cell_type": "code",
   "execution_count": 26,
   "metadata": {},
   "outputs": [
    {
     "data": {
      "image/png": "[encoded data removed]",
      "text/plain": [
       "<Figure size 432x288 with 1 Axes>"
      ]
     },
     "metadata": {
      "needs_background": "light"
     },
     "output_type": "display_data"
    }
   ],
   "source": [
    "plot_graphs(history, 'loss')"
   ]
  },
  {
   "cell_type": "code",
   "execution_count": 27,
   "metadata": {},
   "outputs": [
    {
     "data": {
      "image/png": "[encoded data removed]",
      "text/plain": [
       "<Figure size 432x288 with 1 Axes>"
      ]
     },
     "metadata": {
      "needs_background": "light"
     },
     "output_type": "display_data"
    }
   ],
   "source": [
    "plot_graphs(history, 'binary_accuracy')"
   ]
  },
  {
   "cell_type": "markdown",
   "metadata": {},
   "source": [
    "#### Evaluating the outcome of a single prediction"
   ]
  },
  {
   "cell_type": "code",
   "execution_count": 28,
   "metadata": {},
   "outputs": [],
   "source": [
    "emotions = ['anger', 'anticipation', 'disgust', 'fear', 'joy', 'love',\n",
    "       'optimism', 'pessimism', 'sadness', 'surprise', 'trust']"
   ]
  },
  {
   "cell_type": "code",
   "execution_count": 29,
   "metadata": {},
   "outputs": [
    {
     "name": "stdout",
     "output_type": "stream",
     "text": [
      "['my roommate its okay that we cant spell because we have autocorrect terrible firstworldprobs']\n",
      "{'anger': 1.0, 'anticipation': 0.0, 'disgust': 1.0, 'fear': 0.0, 'joy': 0.0, 'love': 0.0, 'optimism': 0.0, 'pessimism': 0.0, 'sadness': 1.0, 'surprise': 0.0, 'trust': 0.0}\n"
     ]
    },
    {
     "data": {
      "text/html": [
       "<div>\n",
       "<style scoped>\n",
       "    .dataframe tbody tr th:only-of-type {\n",
       "        vertical-align: middle;\n",
       "    }\n",
       "\n",
       "    .dataframe tbody tr th {\n",
       "        vertical-align: top;\n",
       "    }\n",
       "\n",
       "    .dataframe thead th {\n",
       "        text-align: right;\n",
       "    }\n",
       "</style>\n",
       "<table border=\"1\" class=\"dataframe\">\n",
       "  <thead>\n",
       "    <tr style=\"text-align: right;\">\n",
       "      <th></th>\n",
       "      <th>anger</th>\n",
       "      <th>anticipation</th>\n",
       "      <th>disgust</th>\n",
       "      <th>fear</th>\n",
       "      <th>joy</th>\n",
       "      <th>love</th>\n",
       "      <th>optimism</th>\n",
       "      <th>pessimism</th>\n",
       "      <th>sadness</th>\n",
       "      <th>surprise</th>\n",
       "      <th>trust</th>\n",
       "    </tr>\n",
       "  </thead>\n",
       "  <tbody>\n",
       "    <tr>\n",
       "      <th>4</th>\n",
       "      <td>1</td>\n",
       "      <td>0</td>\n",
       "      <td>1</td>\n",
       "      <td>0</td>\n",
       "      <td>0</td>\n",
       "      <td>0</td>\n",
       "      <td>0</td>\n",
       "      <td>0</td>\n",
       "      <td>0</td>\n",
       "      <td>0</td>\n",
       "      <td>0</td>\n",
       "    </tr>\n",
       "  </tbody>\n",
       "</table>\n",
       "</div>"
      ],
      "text/plain": [
       "   anger  anticipation  disgust  fear  joy  love  optimism  pessimism  \\\n",
       "4      1             0        1     0    0     0         0          0   \n",
       "\n",
       "   sadness  surprise  trust  \n",
       "4        0         0      0  "
      ]
     },
     "execution_count": 29,
     "metadata": {},
     "output_type": "execute_result"
    }
   ],
   "source": [
    "tweet_no = 4\n",
    "\n",
    "text_test = [train_df['Tweet'][tweet_no]]\n",
    "\n",
    "preds = classifier_model.predict([text_test])\n",
    "print(text_test)\n",
    "\n",
    "pred_dict = {}\n",
    "for emotion, value in zip(emotions, preds.round()[0]):\n",
    "    pred_dict[emotion] = value\n",
    "    \n",
    "print(pred_dict)\n",
    "train_df.loc[tweet_no:tweet_no, emotions]"
   ]
  },
  {
   "cell_type": "markdown",
   "metadata": {},
   "source": [
    "#### Evaluating classification performance"
   ]
  },
  {
   "cell_type": "code",
   "execution_count": 30,
   "metadata": {},
   "outputs": [],
   "source": [
    "preds = classifier_model.predict(train_df['Tweet'])"
   ]
  },
  {
   "cell_type": "code",
   "execution_count": 31,
   "metadata": {},
   "outputs": [],
   "source": [
    "preds = pd.DataFrame(data = preds, columns = emotions)"
   ]
  },
  {
   "cell_type": "code",
   "execution_count": 32,
   "metadata": {},
   "outputs": [],
   "source": [
    "preds = preds.round()"
   ]
  },
  {
   "cell_type": "code",
   "execution_count": 33,
   "metadata": {},
   "outputs": [
    {
     "name": "stdout",
     "output_type": "stream",
     "text": [
      "anger \n",
      "support: 2544 \n",
      "Accuracy: 0.9365311494589061 \n",
      "F1 Score: 0.9159891598915988\n",
      "\n",
      "anticipation \n",
      "support: 978 \n",
      "Accuracy: 0.8739397484644633 \n",
      "F1 Score: 0.242530755711775\n",
      "\n",
      "disgust \n",
      "support: 2602 \n",
      "Accuracy: 0.9004094764551038 \n",
      "F1 Score: 0.8754344247301994\n",
      "\n",
      "fear \n",
      "support: 1242 \n",
      "Accuracy: 0.941649605147704 \n",
      "F1 Score: 0.8129395218002812\n",
      "\n",
      "joy \n",
      "support: 2477 \n",
      "Accuracy: 0.9292190699034806 \n",
      "F1 Score: 0.8949196699956579\n",
      "\n",
      "love \n",
      "support: 700 \n",
      "Accuracy: 0.9436969874232232 \n",
      "F1 Score: 0.6717817561807331\n",
      "\n",
      "optimism \n",
      "support: 1984 \n",
      "Accuracy: 0.8955835039485229 \n",
      "F1 Score: 0.8117088607594938\n",
      "\n",
      "pessimism \n",
      "support: 795 \n",
      "Accuracy: 0.9027493419128401 \n",
      "F1 Score: 0.5077720207253886\n",
      "\n",
      "sadness \n",
      "support: 2008 \n",
      "Accuracy: 0.8812518280198889 \n",
      "F1 Score: 0.8046198267564966\n",
      "\n",
      "surprise \n",
      "support: 361 \n",
      "Accuracy: 0.9492541678853466 \n",
      "F1 Score: 0.07466666666666666\n",
      "\n",
      "trust \n",
      "support: 357 \n",
      "Accuracy: 0.9483767183386955 \n",
      "F1 Score: 0.03814713896457765\n",
      "\n"
     ]
    }
   ],
   "source": [
    "from sklearn.metrics import accuracy_score, f1_score\n",
    "\n",
    "accuracies = []\n",
    "f1_scores = []\n",
    "\n",
    "for emotion in emotions:\n",
    "    acc = accuracy_score(train_df[emotion], preds[emotion])\n",
    "    accuracies.append(acc)\n",
    "    f1score = f1_score(train_df[emotion], preds[emotion])\n",
    "    f1_scores.append(f1score)\n",
    "    print(f\"{emotion} \\nsupport: {sum(train_df[emotion])} \\nAccuracy: {acc} \\nF1 Score: {f1score}\\n\")"
   ]
  },
  {
   "cell_type": "code",
   "execution_count": 34,
   "metadata": {},
   "outputs": [
    {
     "data": {
      "text/plain": [
       "(0.918423781541652, 0.03814713896457765)"
      ]
     },
     "execution_count": 34,
     "metadata": {},
     "output_type": "execute_result"
    }
   ],
   "source": [
    "# Macro Scores\n",
    "\n",
    "np.mean(accuracies), np.mean(f1score)"
   ]
  },
  {
   "cell_type": "code",
   "execution_count": 35,
   "metadata": {},
   "outputs": [
    {
     "data": {
      "text/plain": [
       "['ano man im stunned! at one point our heads were gone and they were scoring at will! relieved',\n",
       " 'this one? na bit odd looking isnt he? pointy the alien asked nperhaps but hell be wonderful hes from the steve pile vss',\n",
       " 'placed order for nearly a grand six weeks ago called yesterday order missing and no call back today! shocking',\n",
       " 'i didnt ask for this either it just happened face with steam from nose',\n",
       " 'why is everybody seem sp serious?',\n",
       " 'can it do the bell ringing and incense at consecration?',\n",
       " 'what a shake down operation!',\n",
       " 'hi! im curious as to what happened to your growing space in crouch end? is it just empty?!',\n",
       " 'you guys sound astounded!! does anyone working w trump wh have an any ethical moral values? see no evil monkey hear no evil monkey speak no evil monkey',\n",
       " 'cant believe zain starting secondary this year crying face',\n",
       " 'absolutely shocking behavour!!!!!!',\n",
       " 'when you only meet each other once at an interview and you recognise each other on the streets person gesturing ok i dont even know whats your name face with tears of joy',\n",
       " 'i got a free dr pepper from the vending machine awesome',\n",
       " 'it s amazing isn t it i m a big fan of b amp w but the life these restorations give the photographs is awe inspiring',\n",
       " 'wow whats up with snap astonished face bar chart chart decreasing down arrow cnnmoney',\n",
       " 'dirty chai tea with rumchata hits the spot on this gloomy tuesday morning smiling face with smiling eyes',\n",
       " 'i woke up still not hardly believing what all happened last night anxious face with sweat',\n",
       " 'something awestruck me today as i was laughing to a non subtitle korean variety show',\n",
       " 'ash has the weirdest laughter',\n",
       " 'yes it is happening if u have a welding shield u can get a first hand view',\n",
       " 'literally im in awe',\n",
       " 'happy birthday big fella have a good one up the blues x',\n",
       " 'dying my hair an extreme color for the first time excited nervous change notfastenough',\n",
       " 'are they the new kennedys of american politics sadly both mom and daughter are as charming as a toe nail',\n",
       " 'my train is announcing absolutely everything overground station on the network giggle',\n",
       " 'never been so relived grinning squinting face',\n",
       " 'baby im dancing in the dark',\n",
       " 'appearances in pl and goals!! games per goal thats very nearly a goal in every games crap face with tears of joy face with tears of joy face with rolling eyes face with rolling eyes thinking face thinking face rooney',\n",
       " 'i came for the damn boy jokes but stayed because you are great at your actual job thumbs up medium dark skin tone',\n",
       " 'yes putting that angel back in the villa was the best move revenge returnofthemike loveisland hot',\n",
       " 'isnt it always about control and mistrust?',\n",
       " 'even in an incomplete state the ten tails possesses immense physical strength and is remarkably fast despite its tremendous size',\n",
       " 'the ignorance of the left is shocking',\n",
       " 'etika is polneraffs long lost brother confirmed',\n",
       " 'my husband gets up and hour before every day upon opening my eyes i ask him did he start wwiii yet?']"
      ]
     },
     "execution_count": 35,
     "metadata": {},
     "output_type": "execute_result"
    }
   ],
   "source": [
    "test_df.loc[test_df['surprise']==1]['Tweet'].to_list()"
   ]
  },
  {
   "cell_type": "code",
   "execution_count": 36,
   "metadata": {},
   "outputs": [],
   "source": [
    "test_preds = classifier_model.predict(test_df['Tweet'])\n",
    "test_preds = pd.DataFrame(data = test_preds, columns = emotions)\n",
    "test_preds = test_preds.round()"
   ]
  },
  {
   "cell_type": "code",
   "execution_count": 37,
   "metadata": {},
   "outputs": [
    {
     "data": {
      "text/plain": [
       "886"
      ]
     },
     "execution_count": 37,
     "metadata": {},
     "output_type": "execute_result"
    }
   ],
   "source": [
    "len(test_preds)"
   ]
  },
  {
   "cell_type": "code",
   "execution_count": 38,
   "metadata": {},
   "outputs": [
    {
     "name": "stdout",
     "output_type": "stream",
     "text": [
      "anger \n",
      "support: 315 \n",
      "Accuracy: 0.835214446952596 \n",
      "F1 Score: 0.7704402515723272\n",
      "\n",
      "anticipation \n",
      "support: 124 \n",
      "Accuracy: 0.8656884875846501 \n",
      "F1 Score: 0.07751937984496124\n",
      "\n",
      "disgust \n",
      "support: 319 \n",
      "Accuracy: 0.8250564334085779 \n",
      "F1 Score: 0.7696879643387816\n",
      "\n",
      "fear \n",
      "support: 121 \n",
      "Accuracy: 0.9311512415349887 \n",
      "F1 Score: 0.7264573991031389\n",
      "\n",
      "joy \n",
      "support: 400 \n",
      "Accuracy: 0.8363431151241535 \n",
      "F1 Score: 0.7931526390870186\n",
      "\n",
      "love \n",
      "support: 132 \n",
      "Accuracy: 0.891647855530474 \n",
      "F1 Score: 0.5932203389830509\n",
      "\n",
      "optimism \n",
      "support: 307 \n",
      "Accuracy: 0.8115124153498872 \n",
      "F1 Score: 0.701252236135957\n",
      "\n",
      "pessimism \n",
      "support: 100 \n",
      "Accuracy: 0.8724604966139955 \n",
      "F1 Score: 0.3615819209039548\n",
      "\n",
      "sadness \n",
      "support: 265 \n",
      "Accuracy: 0.7979683972911964 \n",
      "F1 Score: 0.6940170940170941\n",
      "\n",
      "surprise \n",
      "support: 35 \n",
      "Accuracy: 0.9627539503386005 \n",
      "F1 Score: 0.1081081081081081\n",
      "\n",
      "trust \n",
      "support: 43 \n",
      "Accuracy: 0.9503386004514672 \n",
      "F1 Score: 0.0\n",
      "\n"
     ]
    }
   ],
   "source": [
    "test_accuracies = []\n",
    "f1_scores_test = []\n",
    "\n",
    "for emotion in emotions:\n",
    "    acc = accuracy_score(test_df[emotion], test_preds[emotion])\n",
    "    test_accuracies.append(acc)\n",
    "    f1score = f1_score(test_df[emotion], test_preds[emotion])\n",
    "    f1_scores_test.append(f1score)\n",
    "    print(f\"{emotion} \\nsupport: {sum(test_df[emotion])} \\nAccuracy: {acc} \\nF1 Score: {f1score}\\n\")"
   ]
  },
  {
   "cell_type": "code",
   "execution_count": 39,
   "metadata": {},
   "outputs": [
    {
     "data": {
      "text/plain": [
       "(0.8709214036527805, 0.5086761210994902)"
      ]
     },
     "execution_count": 39,
     "metadata": {},
     "output_type": "execute_result"
    }
   ],
   "source": [
    "# Macro Test Scores\n",
    "\n",
    "np.mean(test_accuracies), np.mean(f1_scores_test)"
   ]
  },
  {
   "cell_type": "markdown",
   "metadata": {},
   "source": [
    "#### Attempting classification using augmented and re-classified dataset by LLM"
   ]
  },
  {
   "cell_type": "code",
   "execution_count": 64,
   "metadata": {},
   "outputs": [],
   "source": [
    "new_data = pd.read_csv('datasets/E-c-En-Reclassified.csv')"
   ]
  },
  {
   "cell_type": "code",
   "execution_count": 65,
   "metadata": {},
   "outputs": [],
   "source": [
    "X = new_data['Tweet'] \n",
    "y = new_data.loc[:,['anger', 'anticipation', 'disgust', 'fear', 'joy', 'love',\n",
    "       'optimism', 'pessimism', 'sadness', 'surprise', 'trust']].values"
   ]
  },
  {
   "cell_type": "code",
   "execution_count": 66,
   "metadata": {},
   "outputs": [],
   "source": [
    "X_train, X_test, y_train, y_test = train_test_split(\n",
    "    X, y, \n",
    "    test_size=0.2,         # 20% test, 80% train\n",
    "    random_state=42,       # for reproducibility \n",
    ")"
   ]
  },
  {
   "cell_type": "code",
   "execution_count": 67,
   "metadata": {},
   "outputs": [
    {
     "data": {
      "text/plain": [
       "((6488,), (1623,))"
      ]
     },
     "execution_count": 67,
     "metadata": {},
     "output_type": "execute_result"
    }
   ],
   "source": [
    "X_train.shape, X_test.shape"
   ]
  },
  {
   "cell_type": "code",
   "execution_count": 71,
   "metadata": {},
   "outputs": [],
   "source": [
    "tf.keras.backend.clear_session()\n",
    "\n",
    "classifier_model.compile(optimizer=tf.keras.optimizers.Adam(learning_rate=2e-5),\n",
    "              loss='binary_crossentropy',\n",
    "              metrics=[tf.keras.metrics.BinaryAccuracy()])"
   ]
  },
  {
   "cell_type": "code",
   "execution_count": 72,
   "metadata": {},
   "outputs": [],
   "source": [
    "epochs = 5\n",
    "batch_size = 32"
   ]
  },
  {
   "cell_type": "code",
   "execution_count": 73,
   "metadata": {},
   "outputs": [
    {
     "name": "stdout",
     "output_type": "stream",
     "text": [
      "Epoch 1/5\n",
      "203/203 [==============================] - 72s 329ms/step - loss: 0.2429 - binary_accuracy: 0.9066 - val_loss: 0.1993 - val_binary_accuracy: 0.9191 - val_f1_score: 0.5113\n",
      "Epoch 2/5\n",
      "203/203 [==============================] - 66s 325ms/step - loss: 0.2027 - binary_accuracy: 0.9233 - val_loss: 0.1954 - val_binary_accuracy: 0.9206 - val_f1_score: 0.5337\n",
      "Epoch 3/5\n",
      "203/203 [==============================] - 66s 325ms/step - loss: 0.1623 - binary_accuracy: 0.9393 - val_loss: 0.1929 - val_binary_accuracy: 0.9244 - val_f1_score: 0.5240\n",
      "Epoch 4/5\n",
      "203/203 [==============================] - 66s 325ms/step - loss: 0.1330 - binary_accuracy: 0.9509 - val_loss: 0.2061 - val_binary_accuracy: 0.9268 - val_f1_score: 0.5346\n",
      "Epoch 5/5\n",
      "203/203 [==============================] - 66s 324ms/step - loss: 0.1059 - binary_accuracy: 0.9613 - val_loss: 0.2282 - val_binary_accuracy: 0.9218 - val_f1_score: 0.5518\n"
     ]
    }
   ],
   "source": [
    "from tensorflow.keras.callbacks import Callback\n",
    "from sklearn.metrics import f1_score \n",
    "\n",
    "class MultiLabelF1ScoreCallback(Callback):\n",
    "    def __init__(self, validation_data):\n",
    "        super().__init__()\n",
    "        self.validation_data = validation_data\n",
    "\n",
    "    def on_epoch_end(self, epoch, logs=None):\n",
    "        if logs is None:\n",
    "            logs = {}\n",
    "\n",
    "        val_x, val_y = self.validation_data\n",
    "\n",
    "        # Run inference in \"no_grad\" mode to speed it up\n",
    "        y_pred = self.model.predict(val_x, verbose=0)\n",
    "        y_pred = (y_pred > 0.5).astype(int)  # Convert probabilities to binary labels\n",
    "\n",
    "        # Compute F1-score for multi-label classification\n",
    "        f1 = f1_score(val_y, y_pred, average=\"samples\", zero_division=1)  # \"samples\" is best for multi-label tasks\n",
    "\n",
    "        logs[\"val_f1_score\"] = f1\n",
    "#         print(f\" — val_f1_score: {f1:.4f}\")\n",
    "\n",
    "# Train model with optimized callback\n",
    "f1_callback = MultiLabelF1ScoreCallback(validation_data=(test_x, test_y))\n",
    "\n",
    "history = classifier_model.fit(\n",
    "    X_train,\n",
    "    y_train,\n",
    "    validation_data=(X_test, y_test),\n",
    "    batch_size=batch_size,\n",
    "    epochs=epochs,\n",
    "    verbose=1,\n",
    "    callbacks=[f1_callback]\n",
    ")"
   ]
  },
  {
   "cell_type": "code",
   "execution_count": 74,
   "metadata": {},
   "outputs": [
    {
     "data": {
      "image/png": "[encoded data removed]",
      "text/plain": [
       "<Figure size 432x288 with 1 Axes>"
      ]
     },
     "metadata": {
      "needs_background": "light"
     },
     "output_type": "display_data"
    }
   ],
   "source": [
    "plot_graphs(history, 'loss')"
   ]
  },
  {
   "cell_type": "code",
   "execution_count": 76,
   "metadata": {},
   "outputs": [
    {
     "data": {
      "image/png": "[encoded data removed]",
      "text/plain": [
       "<Figure size 432x288 with 1 Axes>"
      ]
     },
     "metadata": {
      "needs_background": "light"
     },
     "output_type": "display_data"
    }
   ],
   "source": [
    "plot_graphs(history, 'binary_accuracy')"
   ]
  },
  {
   "cell_type": "code",
   "execution_count": 77,
   "metadata": {},
   "outputs": [],
   "source": [
    "preds = classifier_model.predict(X_train)"
   ]
  },
  {
   "cell_type": "code",
   "execution_count": 78,
   "metadata": {},
   "outputs": [],
   "source": [
    "preds = pd.DataFrame(data = preds, columns = emotions)"
   ]
  },
  {
   "cell_type": "code",
   "execution_count": 84,
   "metadata": {},
   "outputs": [],
   "source": [
    "y_train_df = pd.DataFrame(data = y_train, columns = emotions)"
   ]
  },
  {
   "cell_type": "code",
   "execution_count": 79,
   "metadata": {},
   "outputs": [],
   "source": [
    "preds = preds.round()"
   ]
  },
  {
   "cell_type": "code",
   "execution_count": 86,
   "metadata": {},
   "outputs": [
    {
     "name": "stdout",
     "output_type": "stream",
     "text": [
      "anger \n",
      "support: 1554 \n",
      "Accuracy: 0.9847410604192355 \n",
      "F1 Score: 0.9682386910490857\n",
      "\n",
      "anticipation \n",
      "support: 302 \n",
      "Accuracy: 0.9856658446362515 \n",
      "F1 Score: 0.8353982300884956\n",
      "\n",
      "disgust \n",
      "support: 1002 \n",
      "Accuracy: 0.9796547472256474 \n",
      "F1 Score: 0.9345238095238095\n",
      "\n",
      "fear \n",
      "support: 714 \n",
      "Accuracy: 0.9896732429099877 \n",
      "F1 Score: 0.9529163738580463\n",
      "\n",
      "joy \n",
      "support: 2130 \n",
      "Accuracy: 0.9813501849568435 \n",
      "F1 Score: 0.9717751341264287\n",
      "\n",
      "love \n",
      "support: 306 \n",
      "Accuracy: 0.9953760789149199 \n",
      "F1 Score: 0.9498327759197325\n",
      "\n",
      "optimism \n",
      "support: 550 \n",
      "Accuracy: 0.9815043156596794 \n",
      "F1 Score: 0.8926654740608229\n",
      "\n",
      "pessimism \n",
      "support: 259 \n",
      "Accuracy: 0.9859741060419236 \n",
      "F1 Score: 0.8253358925143953\n",
      "\n",
      "sadness \n",
      "support: 1932 \n",
      "Accuracy: 0.9779593094944513 \n",
      "F1 Score: 0.9624178712220762\n",
      "\n",
      "surprise \n",
      "support: 310 \n",
      "Accuracy: 0.9864364981504316 \n",
      "F1 Score: 0.8503401360544217\n",
      "\n",
      "trust \n",
      "support: 366 \n",
      "Accuracy: 0.9836621454993835 \n",
      "F1 Score: 0.8354037267080746\n",
      "\n"
     ]
    }
   ],
   "source": [
    "from sklearn.metrics import accuracy_score, f1_score\n",
    "\n",
    "accuracies = []\n",
    "f1_scores = []\n",
    "\n",
    "for emotion in emotions:\n",
    "    acc = accuracy_score(y_train_df[emotion], preds[emotion])\n",
    "    accuracies.append(acc)\n",
    "    f1score = f1_score(y_train_df[emotion], preds[emotion])\n",
    "    f1_scores.append(f1score)\n",
    "    print(f\"{emotion} \\nsupport: {sum(y_train_df[emotion])} \\nAccuracy: {acc} \\nF1 Score: {f1score}\\n\")"
   ]
  },
  {
   "cell_type": "code",
   "execution_count": 87,
   "metadata": {},
   "outputs": [
    {
     "data": {
      "text/plain": [
       "(0.9847270485371596, 0.8354037267080746)"
      ]
     },
     "execution_count": 87,
     "metadata": {},
     "output_type": "execute_result"
    }
   ],
   "source": [
    "# Macro Scores\n",
    "\n",
    "np.mean(accuracies), np.mean(f1score)"
   ]
  },
  {
   "cell_type": "code",
   "execution_count": 88,
   "metadata": {},
   "outputs": [],
   "source": [
    "test_preds = classifier_model.predict(X_test)\n",
    "test_preds = pd.DataFrame(data = test_preds, columns = emotions)\n",
    "test_preds = test_preds.round()\n",
    "y_test_df = pd.DataFrame(data = y_test, columns = emotions)"
   ]
  },
  {
   "cell_type": "code",
   "execution_count": 89,
   "metadata": {},
   "outputs": [
    {
     "name": "stdout",
     "output_type": "stream",
     "text": [
      "anger \n",
      "support: 372 \n",
      "Accuracy: 0.8841651263093038 \n",
      "F1 Score: 0.758974358974359\n",
      "\n",
      "anticipation \n",
      "support: 93 \n",
      "Accuracy: 0.9531731361675909 \n",
      "F1 Score: 0.5189873417721519\n",
      "\n",
      "disgust \n",
      "support: 244 \n",
      "Accuracy: 0.8897104128157732 \n",
      "F1 Score: 0.6383838383838384\n",
      "\n",
      "fear \n",
      "support: 176 \n",
      "Accuracy: 0.9303758471965496 \n",
      "F1 Score: 0.6904109589041096\n",
      "\n",
      "joy \n",
      "support: 511 \n",
      "Accuracy: 0.8582871226124461 \n",
      "F1 Score: 0.7821969696969697\n",
      "\n",
      "love \n",
      "support: 76 \n",
      "Accuracy: 0.9704251386321626 \n",
      "F1 Score: 0.6190476190476191\n",
      "\n",
      "optimism \n",
      "support: 145 \n",
      "Accuracy: 0.9328404189772027 \n",
      "F1 Score: 0.6305084745762712\n",
      "\n",
      "pessimism \n",
      "support: 58 \n",
      "Accuracy: 0.9716574245224893 \n",
      "F1 Score: 0.5964912280701754\n",
      "\n",
      "sadness \n",
      "support: 500 \n",
      "Accuracy: 0.8404189772027111 \n",
      "F1 Score: 0.7310488058151609\n",
      "\n",
      "surprise \n",
      "support: 69 \n",
      "Accuracy: 0.9630314232902033 \n",
      "F1 Score: 0.5384615384615384\n",
      "\n",
      "trust \n",
      "support: 95 \n",
      "Accuracy: 0.9457794208256316 \n",
      "F1 Score: 0.3802816901408451\n",
      "\n"
     ]
    }
   ],
   "source": [
    "test_accuracies = []\n",
    "f1_scores_test = []\n",
    "\n",
    "for emotion in emotions:\n",
    "    acc = accuracy_score(y_test_df[emotion], test_preds[emotion])\n",
    "    test_accuracies.append(acc)\n",
    "    f1score = f1_score(y_test_df[emotion], test_preds[emotion])\n",
    "    f1_scores_test.append(f1score)\n",
    "    print(f\"{emotion} \\nsupport: {sum(y_test_df[emotion])} \\nAccuracy: {acc} \\nF1 Score: {f1score}\\n\")"
   ]
  },
  {
   "cell_type": "code",
   "execution_count": 90,
   "metadata": {},
   "outputs": [
    {
     "data": {
      "text/plain": [
       "(0.9218058589592787, 0.6258902567130035)"
      ]
     },
     "execution_count": 90,
     "metadata": {},
     "output_type": "execute_result"
    }
   ],
   "source": [
    "# Macro Test Scores\n",
    "\n",
    "np.mean(test_accuracies), np.mean(f1_scores_test)"
   ]
  },
  {
   "cell_type": "code",
   "execution_count": 91,
   "metadata": {},
   "outputs": [
    {
     "name": "stdout",
     "output_type": "stream",
     "text": [
      "dirty chai tea with rumchata hits the spot on this gloomy tuesday morning smiling face with smiling eyes\n",
      "{'anger': 0.0, 'anticipation': 0.0, 'disgust': 0.0, 'fear': 0.0, 'joy': 1.0, 'love': 0.0, 'optimism': 0.0, 'pessimism': 0.0, 'sadness': 0.0, 'surprise': 0.0, 'trust': 0.0}\n"
     ]
    }
   ],
   "source": [
    "text_test = 'dirty chai tea with rumchata hits the spot on this gloomy tuesday morning smiling face with smiling eyes'\n",
    "\n",
    "preds = classifier_model.predict([text_test])\n",
    "print(text_test)\n",
    "\n",
    "pred_dict = {}\n",
    "for emotion, value in zip(emotions, preds.round()[0]):\n",
    "    pred_dict[emotion] = value\n",
    "    \n",
    "print(pred_dict) "
   ]
  },
  {
   "cell_type": "code",
   "execution_count": 92,
   "metadata": {},
   "outputs": [
    {
     "name": "stdout",
     "output_type": "stream",
     "text": [
      "you guys sound astounded!! does anyone working w trump wh have an any ethical moral values? see no evil monkey hear no evil monkey speak no evil monkey\n",
      "{'anger': 0.0, 'anticipation': 0.0, 'disgust': 1.0, 'fear': 0.0, 'joy': 0.0, 'love': 0.0, 'optimism': 0.0, 'pessimism': 0.0, 'sadness': 0.0, 'surprise': 1.0, 'trust': 0.0}\n"
     ]
    }
   ],
   "source": [
    "text_test = 'you guys sound astounded!! does anyone working w trump wh have an any ethical moral values? see no evil monkey hear no evil monkey speak no evil monkey'\n",
    "\n",
    "preds = classifier_model.predict([text_test])\n",
    "print(text_test)\n",
    "\n",
    "pred_dict = {}\n",
    "for emotion, value in zip(emotions, preds.round()[0]):\n",
    "    pred_dict[emotion] = value\n",
    "    \n",
    "print(pred_dict) "
   ]
  },
  {
   "cell_type": "code",
   "execution_count": 93,
   "metadata": {},
   "outputs": [
    {
     "name": "stdout",
     "output_type": "stream",
     "text": [
      "this casino is amazing I have won so much money!\n",
      "{'anger': 0.0, 'anticipation': 0.0, 'disgust': 0.0, 'fear': 0.0, 'joy': 1.0, 'love': 0.0, 'optimism': 0.0, 'pessimism': 0.0, 'sadness': 0.0, 'surprise': 0.0, 'trust': 0.0}\n"
     ]
    }
   ],
   "source": [
    "text_test = 'this casino is amazing I have won so much money!'\n",
    "\n",
    "preds = classifier_model.predict([text_test])\n",
    "print(text_test)\n",
    "\n",
    "pred_dict = {}\n",
    "for emotion, value in zip(emotions, preds.round()[0]):\n",
    "    pred_dict[emotion] = value\n",
    "    \n",
    "print(pred_dict) "
   ]
  },
  {
   "cell_type": "code",
   "execution_count": 95,
   "metadata": {},
   "outputs": [
    {
     "name": "stdout",
     "output_type": "stream",
     "text": [
      "i went to the mall and a person cut me off in line\n",
      "{'anger': 1.0, 'anticipation': 0.0, 'disgust': 0.0, 'fear': 0.0, 'joy': 0.0, 'love': 0.0, 'optimism': 0.0, 'pessimism': 0.0, 'sadness': 1.0, 'surprise': 0.0, 'trust': 0.0}\n"
     ]
    }
   ],
   "source": [
    "text_test = 'i went to the mall and a person cut me off in line'\n",
    "\n",
    "preds = classifier_model.predict([text_test])\n",
    "print(text_test)\n",
    "\n",
    "pred_dict = {}\n",
    "for emotion, value in zip(emotions, preds.round()[0]):\n",
    "    pred_dict[emotion] = value\n",
    "    \n",
    "print(pred_dict) "
   ]
  },
  {
   "cell_type": "code",
   "execution_count": null,
   "metadata": {},
   "outputs": [],
   "source": []
  }
 ],
 "metadata": {
  "kernelspec": {
   "display_name": "Python 3",
   "language": "python",
   "name": "python3"
  },
  "language_info": {
   "codemirror_mode": {
    "name": "ipython",
    "version": 3
   },
   "file_extension": ".py",
   "mimetype": "text/x-python",
   "name": "python",
   "nbconvert_exporter": "python",
   "pygments_lexer": "ipython3",
   "version": "3.8.5"
  }
 },
 "nbformat": 4,
 "nbformat_minor": 4
}
